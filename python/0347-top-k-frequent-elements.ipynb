{
 "cells": [
  {
   "cell_type": "markdown",
   "metadata": {},
   "source": [
    "## 347. Top K Frequent Elements\n",
    "Given an integer array nums and an integer k, return the k most frequent elements. You may return the answer in any order.\n",
    "\n",
    "**Example 1:**\n",
    "- Input: nums = [1,1,1,2,2,3], k = 2\n",
    "- Output: [1,2]\n",
    "\n",
    "**Example 2:**\n",
    "- Input: nums = [1], k = 1\n",
    "- Output: [1]\n",
    "\n",
    "**Constraints:**\n",
    "\n",
    "- 1 <= nums.length <= 10^5\n",
    "- -10^4 <= nums[i] <= 10^4\n",
    "- k is in the range [1, the number of unique elements in the array].\n",
    "- It is guaranteed that the answer is unique."
   ]
  },
  {
   "cell_type": "code",
   "execution_count": null,
   "metadata": {},
   "outputs": [],
   "source": [
    "from collections import defaultdict\n",
    "from typing import List"
   ]
  },
  {
   "cell_type": "code",
   "execution_count": null,
   "metadata": {},
   "outputs": [],
   "source": [
    "class Solution(object):\n",
    "    def topKFrequent(self, nums: List[int], k: int) -> List[int]:\n",
    "        hmap = defaultdict(int)\n",
    "        for n in nums: # O(n)\n",
    "            hmap[n] += 1\n",
    "        res = []\n",
    "        while k > 0 and k <= len(hmap): # O(k) \n",
    "            m = max(hmap, key=lambda k: hmap[k]) # O(n)\n",
    "            res.append(m)\n",
    "            del hmap[m]\n",
    "            k -= 1\n",
    "        return res"
   ]
  }
 ],
 "metadata": {
  "language_info": {
   "name": "python"
  }
 },
 "nbformat": 4,
 "nbformat_minor": 2
}
