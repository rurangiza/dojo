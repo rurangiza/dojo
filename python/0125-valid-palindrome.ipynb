{
 "cells": [
  {
   "cell_type": "markdown",
   "metadata": {},
   "source": [
    "# 125. Valid Palindrome\n",
    "A phrase is a **palindrome** if, after converting all uppercase letters into lowercase letters and removing all non-alphanumeric characters, it reads the same forward and backward. Alphanumeric characters include letters and numbers.\n",
    "\n",
    "Given a string `s`, return `true` if it is a **palindrome**, or false otherwise.\n",
    "\n",
    " \n",
    "\n",
    "**Example 1:**\n",
    "- Input: s = \"A man, a plan, a canal: Panama\"\n",
    "- Output: true\n",
    "- Explanation: \"amanaplanacanalpanama\" is a palindrome.\n",
    "\n",
    "**Example 2:**\n",
    "- Input: s = \"race a car\"\n",
    "- Output: false\n",
    "- Explanation: \"raceacar\" is not a palindrome.\n",
    "\n",
    "**Example 3:**\n",
    "- Input: s = \" \"\n",
    "- Output: true\n",
    "- Explanation: s is an empty string \"\" after removing non-alphanumeric characters.\n",
    "Since an empty string reads the same forward and backward, it is a palindrome.\n",
    " \n",
    "\n",
    "**Constraints:**\n",
    "- `1 <= s.length <= 2 * 10ˆ5`\n",
    "- `s` consists only of printable ASCII characters."
   ]
  },
  {
   "cell_type": "code",
   "execution_count": 14,
   "metadata": {},
   "outputs": [
    {
     "name": "stdout",
     "output_type": "stream",
     "text": [
      "True\n",
      "False\n",
      "True\n"
     ]
    }
   ],
   "source": [
    "class Solution(object):\n",
    "    \"\"\"\n",
    "    time: O(n)\n",
    "    space: O(n)\n",
    "    \"\"\"\n",
    "    def isPalindrome(self, s: str) -> bool:\n",
    "        cleaned_str = \"\".join([c.lower() for c in s if c.isalpha()])\n",
    "        L, R = 0, len(cleaned_str)-1\n",
    "        while L < R:\n",
    "            if cleaned_str[L] != cleaned_str[R]:\n",
    "                return False\n",
    "            L += 1\n",
    "            R -= 1\n",
    "        return True\n",
    "    \n",
    "    \"\"\"\n",
    "    time: O(n2)\n",
    "    space: O(2n)\n",
    "    \"\"\"\n",
    "    def isPalindrome_2(self, s: str) -> bool:\n",
    "        clean = \"\".join([c.lower() for c in s if c.isalpha()])\n",
    "        new = \"\"\n",
    "        for i in range(len(clean)-1, -1, -1):\n",
    "            new += clean[i]\n",
    "        print(clean, new)\n",
    "        if new != clean:\n",
    "            return False\n",
    "        return True\n",
    "\n",
    "###########################################################\n",
    "\n",
    "inputs= [\n",
    "    \"A man, a plan, a canal: Panama\",\n",
    "    \"race a car\",\n",
    "    \" \",\n",
    "]\n",
    "obj = Solution()\n",
    "for str in inputs:\n",
    "    pos = obj.isPalindrome(str)\n",
    "    print(pos)\n"
   ]
  },
  {
   "cell_type": "code",
   "execution_count": 3,
   "metadata": {},
   "outputs": [
    {
     "name": "stdout",
     "output_type": "stream",
     "text": [
      "examplestringwithspaces\n"
     ]
    }
   ],
   "source": [
    "\n"
   ]
  }
 ],
 "metadata": {
  "kernelspec": {
   "display_name": "Python 3",
   "language": "python",
   "name": "python3"
  },
  "language_info": {
   "codemirror_mode": {
    "name": "ipython",
    "version": 3
   },
   "file_extension": ".py",
   "mimetype": "text/x-python",
   "name": "python",
   "nbconvert_exporter": "python",
   "pygments_lexer": "ipython3",
   "version": "3.11.4"
  }
 },
 "nbformat": 4,
 "nbformat_minor": 2
}
