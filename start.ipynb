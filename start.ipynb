{
 "cells": [
  {
   "cell_type": "markdown",
   "metadata": {},
   "source": [
    "# Useful Commands\n",
    "\n",
    "```bash\n",
    "python3 -m venv .venv\n",
    ". .venv/bin/activate\n",
    "pip freeze > requirements.txt\n",
    "```"
   ]
  }
 ],
 "metadata": {
  "language_info": {
   "name": "python"
  }
 },
 "nbformat": 4,
 "nbformat_minor": 2
}
