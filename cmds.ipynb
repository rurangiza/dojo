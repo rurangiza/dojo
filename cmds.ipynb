{
 "cells": [
  {
   "cell_type": "markdown",
   "metadata": {},
   "source": [
    "# Play"
   ]
  },
  {
   "cell_type": "code",
   "execution_count": 1,
   "metadata": {},
   "outputs": [
    {
     "name": "stdout",
     "output_type": "stream",
     "text": [
      "[-1, 3]\n"
     ]
    }
   ],
   "source": [
    "def getFloorAndCeil(a, n, x):\n",
    "    # Write your code here.\n",
    "    floor = -1\n",
    "    ceil = -1\n",
    "    L, R = 0, n - 1\n",
    "    while L <= R:\n",
    "        mid = L + ((R - L) // 2)\n",
    "        if a[mid] == x:\n",
    "            return [mid, mid]\n",
    "        elif a[mid] > x:\n",
    "            if ceil == -1: ceil = a[mid]\n",
    "            else: ceil = min(ceil, a[mid])\n",
    "            R = mid - 1\n",
    "        else:\n",
    "            if floor == -1: floor = a[mid]\n",
    "            else: floor = max(floor, a[mid])\n",
    "            L = mid + 1\n",
    "    return [floor, ceil]\n",
    "\n",
    "a = [3, 4, 4, 7, 8, 10]\n",
    "n = 6\n",
    "x = 2\n",
    "print(getFloorAndCeil(a, n, x))\n"
   ]
  }
 ],
 "metadata": {
  "kernelspec": {
   "display_name": "Python 3",
   "language": "python",
   "name": "python3"
  },
  "language_info": {
   "codemirror_mode": {
    "name": "ipython",
    "version": 3
   },
   "file_extension": ".py",
   "mimetype": "text/x-python",
   "name": "python",
   "nbconvert_exporter": "python",
   "pygments_lexer": "ipython3",
   "version": "3.11.4"
  }
 },
 "nbformat": 4,
 "nbformat_minor": 2
}
