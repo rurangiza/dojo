{
 "cells": [
  {
   "cell_type": "markdown",
   "metadata": {},
   "source": [
    "## 128. Longest Consecutive Sequence"
   ]
  },
  {
   "cell_type": "code",
   "execution_count": 5,
   "metadata": {},
   "outputs": [
    {
     "name": "stdout",
     "output_type": "stream",
     "text": [
      "count:  1\n",
      "9\n"
     ]
    }
   ],
   "source": [
    "class Solution(object):\n",
    "    def longestConsecutive(self, nums):\n",
    "        \"\"\"\n",
    "        :type nums: List[int]\n",
    "        :rtype: int\n",
    "        \"\"\"\n",
    "        if not nums:\n",
    "            return 0\n",
    "        new = sorted(nums)\n",
    "        count, max_so_far = 1, 1\n",
    "        for i in range(1, len(new)):\n",
    "            if new[i-1] == new[i]-1:\n",
    "                count += 1\n",
    "            else:\n",
    "                print(\"count: \", count)\n",
    "                if count > max_so_far:\n",
    "                    max_so_far = count\n",
    "                count = 1\n",
    "        if count > max_so_far:\n",
    "            max_so_far = count\n",
    "        return max_so_far\n",
    "\n",
    "nums = [0,3,7,2,5,8,4,6,0,1]\n",
    "obj = Solution()\n",
    "res = obj.longestConsecutive(nums)\n",
    "print(res)"
   ]
  }
 ],
 "metadata": {
  "kernelspec": {
   "display_name": "Python 3",
   "language": "python",
   "name": "python3"
  },
  "language_info": {
   "codemirror_mode": {
    "name": "ipython",
    "version": 3
   },
   "file_extension": ".py",
   "mimetype": "text/x-python",
   "name": "python",
   "nbconvert_exporter": "python",
   "pygments_lexer": "ipython3",
   "version": "3.11.4"
  }
 },
 "nbformat": 4,
 "nbformat_minor": 2
}
