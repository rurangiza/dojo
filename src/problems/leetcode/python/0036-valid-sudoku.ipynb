{
 "cells": [
  {
   "cell_type": "markdown",
   "metadata": {},
   "source": [
    "## 36. Valid Sudoku\n",
    "\n",
    "Determine if a `9 x 9` Sudoku board is valid. Only the filled cells need to be validated according to the following rules:\n",
    "\n",
    "1. Each row must contain the digits `1-9` without repetition.\n",
    "2. Each column must contain the digits `1-9` without repetition.\n",
    "3. Each of the nine `3 x 3` sub-boxes of the grid must contain the digits `1-9` without repetition.\n",
    "\n",
    "**Note:**\n",
    "- A Sudoku board (partially filled) could be valid but is not necessarily solvable.\n",
    "- Only the filled cells need to be validated according to the mentioned rules.\n",
    "\n",
    "**Exemple:**\n",
    "\n",
    "Input: board = <br>\n",
    "[[\"5\",\"3\",\".\",\".\",\"7\",\".\",\".\",\".\",\".\"]<br>\n",
    ",[\"6\",\".\",\".\",\"1\",\"9\",\"5\",\".\",\".\",\".\"]<br>\n",
    ",[\".\",\"9\",\"8\",\".\",\".\",\".\",\".\",\"6\",\".\"]<br>\n",
    ",[\"8\",\".\",\".\",\".\",\"6\",\".\",\".\",\".\",\"3\"]<br>\n",
    ",[\"4\",\".\",\".\",\"8\",\".\",\"3\",\".\",\".\",\"1\"]<br>\n",
    ",[\"7\",\".\",\".\",\".\",\"2\",\".\",\".\",\".\",\"6\"]<br>\n",
    ",[\".\",\"6\",\".\",\".\",\".\",\".\",\"2\",\"8\",\".\"]<br>\n",
    ",[\".\",\".\",\".\",\"4\",\"1\",\"9\",\".\",\".\",\"5\"]<br>\n",
    ",[\".\",\".\",\".\",\".\",\"8\",\".\",\".\",\"7\",\"9\"]]<br>\n",
    "\n",
    "Output: true"
   ]
  },
  {
   "cell_type": "code",
   "execution_count": null,
   "metadata": {},
   "outputs": [],
   "source": [
    "from typing import List\n",
    "\n",
    "class Solution(object):\n",
    "    def isValidSudoku(self, board: List[List[str]]) -> bool:\n",
    "        \"\"\"\n",
    "        :type board: List[List[str]]\n",
    "        :rtype: bool\n",
    "        \"\"\"\n",
    "        R = [[] for _ in range(9)]\n",
    "        C = [[] for _ in range(9)]\n",
    "        for y, row in enumerate(board):\n",
    "            for x, col in enumerate(row):\n",
    "                if col.isdigit():\n",
    "                    nbr = int(col)\n",
    "                    if nbr < 0 or nbr > 9 or nbr in R[y] or nbr in C[x]:\n",
    "                        return False\n",
    "                    R[y].append(nbr)\n",
    "                    C[x].append(nbr)\n",
    "        return True"
   ]
  }
 ],
 "metadata": {
  "language_info": {
   "name": "python"
  }
 },
 "nbformat": 4,
 "nbformat_minor": 2
}
