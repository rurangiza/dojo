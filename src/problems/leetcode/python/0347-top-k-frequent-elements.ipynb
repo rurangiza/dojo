{
 "cells": [
  {
   "cell_type": "markdown",
   "metadata": {},
   "source": [
    "## 347. Top K Frequent Elements\n",
    "Given an integer array nums and an integer k, return the k most frequent elements. You may return the answer in any order.\n",
    "\n",
    "**Example 1:**\n",
    "- Input: nums = [1,1,1,2,2,3], k = 2\n",
    "- Output: [1,2]\n",
    "\n",
    "**Example 2:**\n",
    "- Input: nums = [1], k = 1\n",
    "- Output: [1]\n",
    "\n",
    "**Constraints:**\n",
    "\n",
    "- 1 <= nums.length <= 10^5\n",
    "- -10^4 <= nums[i] <= 10^4\n",
    "- k is in the range [1, the number of unique elements in the array].\n",
    "- It is guaranteed that the answer is unique."
   ]
  },
  {
   "cell_type": "code",
   "execution_count": 29,
   "metadata": {},
   "outputs": [],
   "source": [
    "from collections import defaultdict\n",
    "from typing import List\n",
    "\n",
    "class Solutions(object):\n",
    "    \"\"\"\n",
    "    Most intuitive approach in two phases:\n",
    "    1. count occurences using a hashmap\n",
    "    2. pick most frequent elements\n",
    "    time: O(n)\n",
    "    space: O(n)\n",
    "    \"\"\"\n",
    "    def topKFrequent_1(nums: List[int], k: int) -> List[int]:\n",
    "        hmap = defaultdict(int)\n",
    "        for n in nums: # O(n)\n",
    "            hmap[n] += 1\n",
    "        res = []\n",
    "        while k > 0 and k <= len(hmap): # O(k) \n",
    "            m = max(hmap, key=lambda k: hmap[k]) # O(n)\n",
    "            res.append(m)\n",
    "            del hmap[m]\n",
    "            k -= 1\n",
    "        return res\n",
    "\n",
    "    \"\"\"\n",
    "    Using a kind of bucket sort with occurrences as index and lists of values\n",
    "    1. count occurences using hshmap\n",
    "    2. place items at index representing their occurence\n",
    "    time: O(n)\n",
    "    space: O(n)\n",
    "    \"\"\"\n",
    "    def topKFrequent_2(nums: List[int], k: int) -> List[int]:\n",
    "        size, hmap = len(nums), defaultdict(int)\n",
    "        bucket = [[] for _ in range(size)]\n",
    "        res = []\n",
    "\n",
    "        for num in nums:\n",
    "            hmap[num] += 1\n",
    "        for key, value in hmap.items():\n",
    "            bucket[value].append(key)\n",
    "        for i in range(len(bucket)-1, -1, -1):\n",
    "            while bucket[i]:\n",
    "                if k == 0:\n",
    "                    return res\n",
    "                res.append(bucket[i].pop())\n",
    "                k -= 1\n",
    "        \n",
    "        return res"
   ]
  },
  {
   "cell_type": "markdown",
   "metadata": {},
   "source": [
    "## Testing"
   ]
  },
  {
   "cell_type": "code",
   "execution_count": 37,
   "metadata": {},
   "outputs": [
    {
     "name": "stdout",
     "output_type": "stream",
     "text": [
      "[3, 1]\n"
     ]
    }
   ],
   "source": [
    "nums = [1,1,1,2,2,3,3,3]\n",
    "k = 2\n",
    "res = Solutions.topKFrequent_2(nums, k)\n",
    "print(res)"
   ]
  }
 ],
 "metadata": {
  "kernelspec": {
   "display_name": "Python 3",
   "language": "python",
   "name": "python3"
  },
  "language_info": {
   "codemirror_mode": {
    "name": "ipython",
    "version": 3
   },
   "file_extension": ".py",
   "mimetype": "text/x-python",
   "name": "python",
   "nbconvert_exporter": "python",
   "pygments_lexer": "ipython3",
   "version": "3.11.4"
  }
 },
 "nbformat": 4,
 "nbformat_minor": 2
}
