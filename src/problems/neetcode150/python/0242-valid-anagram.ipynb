{
 "cells": [
  {
   "cell_type": "markdown",
   "metadata": {},
   "source": [
    "## 242. Valid Anagram\n",
    "\n",
    "Given two strings s and t, return true if t is an anagram of s, and false otherwise.\n",
    "\n",
    "An Anagram is a word or phrase formed by rearranging the letters of a different word or phrase, typically using all the original letters exactly once.\n",
    "\n",
    "\n",
    "**Example 1:**\n",
    "- Input: s = \"anagram\", t = \"nagaram\"\n",
    "- Output: true\n",
    "\n",
    "**Example 2:**\n",
    "- Input: s = \"rat\", t = \"car\"\n",
    "- Output: false\n",
    " \n",
    "**Constraints:**\n",
    "- 1 <= s.length, t.length <= 5 * 10^4\n",
    "- s and t consist of lowercase English letters."
   ]
  },
  {
   "cell_type": "code",
   "execution_count": 4,
   "metadata": {},
   "outputs": [],
   "source": [
    "from collections import defaultdict"
   ]
  },
  {
   "cell_type": "markdown",
   "metadata": {},
   "source": [
    "## Solutions"
   ]
  },
  {
   "cell_type": "code",
   "execution_count": 31,
   "metadata": {},
   "outputs": [],
   "source": [
    "import time\n",
    "\n",
    "def timer(func):\n",
    "    def wrapper(a, b):\n",
    "        t1 = time.perf_counter()\n",
    "        func(a, b)\n",
    "        t2 = time.perf_counter() - t1\n",
    "        print(f'{func.__name__} ran in {t2:.10f} seconds')\n",
    "    return wrapper\n",
    "\n",
    "\"\"\"\n",
    "Most intuitive, \n",
    "\"\"\"\n",
    "class Solution_1(object):\n",
    "    @timer\n",
    "    @staticmethod\n",
    "    def isAnagram(s: str, t: str) -> bool:\n",
    "\n",
    "        if len(s) != len(t):\n",
    "            return False\n",
    "\n",
    "        map1, map2 = defaultdict(int), defaultdict(int)\n",
    "        for c1, c2 in zip(s, t):\n",
    "\n",
    "            if c1 in map1:\n",
    "                map1[c1] += 1\n",
    "            else:\n",
    "                map1[c1] = 1\n",
    "\n",
    "            if c2 in map2:\n",
    "                map2[c2] += 1\n",
    "            else:\n",
    "                map2[c2] = 1\n",
    "\n",
    "        if len(map1) != len(map2):\n",
    "            return False\n",
    "        \n",
    "        for key, value in map1.items():\n",
    "            if key not in map2:\n",
    "                return False\n",
    "            elif map2[key] != value:\n",
    "                return False\n",
    "            \n",
    "        return True\n",
    "\n",
    "class Solution_1bis(object):\n",
    "    @staticmethod\n",
    "    def isAnagram(s: str, t: str) -> bool:\n",
    "        if len(s) != len(t):\n",
    "            return False\n",
    "\n",
    "        map1, map2 = defaultdict(int), defaultdict(int)\n",
    "        for c1, c2 in zip(s, t):\n",
    "            map1[c1] += 1\n",
    "            map2[c2] += 1\n",
    "\n",
    "        if len(map1) != len(map2):\n",
    "            return False\n",
    "        \n",
    "        for key, value in map1.items():\n",
    "            if key not in map2:\n",
    "                return False\n",
    "            elif map2[key] != value:\n",
    "                return False\n",
    "            \n",
    "        return True\n",
    "\n",
    "\"\"\"\n",
    "Clever solution\n",
    "time: O(NlogN)\n",
    "space: O(1)\n",
    "\"\"\"\n",
    "class Solution_2(object):\n",
    "    @staticmethod\n",
    "    @timer\n",
    "    def isAnagram_2(s: str, t: str) -> bool:\n",
    "        return sorted(s) == sorted(t)"
   ]
  },
  {
   "cell_type": "markdown",
   "metadata": {},
   "source": [
    "## Testing"
   ]
  },
  {
   "cell_type": "code",
   "execution_count": 32,
   "metadata": {},
   "outputs": [
    {
     "name": "stdout",
     "output_type": "stream",
     "text": [
      "isAnagram ran in 0.0000183330 seconds\n",
      "isAnagram_2 ran in 0.0000047500 seconds\n",
      "None None\n"
     ]
    }
   ],
   "source": [
    "\n",
    "\n",
    "s1 = \"anagram\"\n",
    "s2 = \"nagaram\"\n",
    "s3 = \"hello\"\n",
    "\n",
    "res = Solution_1.isAnagram(s1, s2)\n",
    "res2 = Solution_2.isAnagram_2(s1, s2)\n",
    "print(res, res2)"
   ]
  }
 ],
 "metadata": {
  "kernelspec": {
   "display_name": "Python 3",
   "language": "python",
   "name": "python3"
  },
  "language_info": {
   "codemirror_mode": {
    "name": "ipython",
    "version": 3
   },
   "file_extension": ".py",
   "mimetype": "text/x-python",
   "name": "python",
   "nbconvert_exporter": "python",
   "pygments_lexer": "ipython3",
   "version": "3.11.4"
  }
 },
 "nbformat": 4,
 "nbformat_minor": 2
}
