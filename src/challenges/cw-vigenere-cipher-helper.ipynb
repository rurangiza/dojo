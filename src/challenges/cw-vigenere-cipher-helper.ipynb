{
 "cells": [
  {
   "cell_type": "markdown",
   "metadata": {},
   "source": [
    "# Vigenere Cipher Helper"
   ]
  },
  {
   "cell_type": "code",
   "execution_count": null,
   "metadata": {},
   "outputs": [],
   "source": [
    "class VigenereCipher(object):\n",
    "    def __init__(self, key, alphabet):\n",
    "        self.key = key\n",
    "        self.klen = len(key)\n",
    "        self.alphabet = alphabet\n",
    "        self.alphalen = len(alphabet)\n",
    "    \n",
    "    def encode(self, text):\n",
    "        ret, katakana = \"\", False\n",
    "        if isinstance(text, bytes):\n",
    "            text = text.decode('utf-8')\n",
    "            katakana = True\n",
    "        \n",
    "        for idx, c in enumerate(text):\n",
    "            if c not in self.alphabet:\n",
    "                ret += c\n",
    "            else:\n",
    "                # find shift value\n",
    "                key_lettr = self.key[idx % self.klen]\n",
    "                base_26 = 97 if key_lettr.islower() else 65\n",
    "                shift = ord(key_lettr) - base_26\n",
    "                # shift letter\n",
    "                base_26 = 97 if c.islower() else 65\n",
    "                new_ascii = (((ord(c) - base_26) + shift) % self.alphalen) + base_26\n",
    "                ret += chr(new_ascii)\n",
    "            \n",
    "        return ret\n",
    "    \n",
    "    def decode(self, text):\n",
    "        ret = \"\"\n",
    "        if isinstance(text, bytes):\n",
    "            text = text.decode('utf-8')\n",
    "        \n",
    "        for idx, c in enumerate(text):\n",
    "            if c not in self.alphabet:\n",
    "                ret += c\n",
    "            else:\n",
    "                # find shift value\n",
    "                key_lettr = self.key[idx % self.klen]\n",
    "                base_26 = 97 if key_lettr.islower() else 65\n",
    "                shift = ord(key_lettr) - base_26\n",
    "                # shift letter\n",
    "                base_26 = 97 if c.islower() else 65\n",
    "                new_ascii = (((ord(c) - base_26) - shift) % self.alphalen) + base_26\n",
    "                ret += chr(new_ascii)\n",
    "        return ret"
   ]
  },
  {
   "cell_type": "code",
   "execution_count": 17,
   "metadata": {},
   "outputs": [
    {
     "name": "stdout",
     "output_type": "stream",
     "text": [
      "01101000 01100101 01101100 01101100 01101111\n"
     ]
    }
   ],
   "source": [
    "s = \"hello\"\n",
    "\n",
    "res = \" \".join([f'{ord(c):08b}' for c in s])\n",
    "print(res)"
   ]
  },
  {
   "cell_type": "markdown",
   "metadata": {},
   "source": [
    "### Useful Ressources\n",
    "- [Unicode, in friendly terms: ASCII, UTF-8, code points, character encodings, and more](https://www.youtube.com/watch?v=ut74oHojxqo)\n",
    "- [Unicode & Character Encodings in Python: A Painless Guide](https://realpython.com/python-encodings-guide/)\n",
    "- [Unicode HOWTO](https://docs.python.org/3/howto/unicode.html)"
   ]
  }
 ],
 "metadata": {
  "kernelspec": {
   "display_name": "Python 3",
   "language": "python",
   "name": "python3"
  },
  "language_info": {
   "codemirror_mode": {
    "name": "ipython",
    "version": 3
   },
   "file_extension": ".py",
   "mimetype": "text/x-python",
   "name": "python",
   "nbconvert_exporter": "python",
   "pygments_lexer": "ipython3",
   "version": "3.11.4"
  }
 },
 "nbformat": 4,
 "nbformat_minor": 2
}
