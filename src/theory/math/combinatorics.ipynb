{
 "cells": [
  {
   "cell_type": "markdown",
   "metadata": {},
   "source": [
    "# Combinatorics\n",
    "> Combinatorics is a branch of mathematics that studies how to count, arrange, and combine objects according to specific rules.\n",
    "> It's often about finding the number of different ways to arrange a set of items, like how many different ways you can line up some books on a shelf or how many different groups of students you can form from a class.\n",
    "\n",
    "### Requirements\n",
    "\n",
    "1. **Basic Arithmetic**: Understanding *operations like addition, multiplication, and factorial* (e.g., 5! = 5 x 4 x 3 x 2 x 1).\n",
    "2. **Algebra**: Basic skills in *manipulating equations* and understanding variables and coefficients.\n",
    "3. **Set Theory**: Knowledge of *how sets work*, including concepts like unions, intersections, and subsets, which are crucial for understanding how different combinations can be formed.\n",
    "4. **Probability**: Basic principles of probability are often intertwined with combinatorial problems, especially in determining the likelihood of specific combinations occurring.\n",
    "\n",
    "### 3 Principles\n",
    "1. Addition\n",
    "2. Multiplication**\n",
    "3. Inclusion/Exclusion\n",
    "** Permutation / Combinations (based on multiplication)\n",
    "\n",
    "### Exemple Combinatorics Leetcode Problems\n"
   ]
  },
  {
   "cell_type": "markdown",
   "metadata": {},
   "source": [
    "### Brute-force"
   ]
  },
  {
   "cell_type": "code",
   "execution_count": 2,
   "metadata": {},
   "outputs": [
    {
     "name": "stdout",
     "output_type": "stream",
     "text": [
      "[[[1, 2], [1, 3], [1, 4], [2, 3], [2, 4], [3, 4]], 6]\n"
     ]
    }
   ],
   "source": [
    "def findCombintions(nums: int) -> int:\n",
    "    res = []\n",
    "    for i in range(len(nums)-1):\n",
    "        for j in range(i+1, len(nums)):\n",
    "            res.append([nums[i], nums[j]])\n",
    "    return [res, len(res)]\n",
    "\n",
    "nums = [1, 2, 3, 4]\n",
    "res = findCombintions(nums)\n",
    "print(res)"
   ]
  }
 ],
 "metadata": {
  "kernelspec": {
   "display_name": "Python 3",
   "language": "python",
   "name": "python3"
  },
  "language_info": {
   "codemirror_mode": {
    "name": "ipython",
    "version": 3
   },
   "file_extension": ".py",
   "mimetype": "text/x-python",
   "name": "python",
   "nbconvert_exporter": "python",
   "pygments_lexer": "ipython3",
   "version": "3.11.4"
  }
 },
 "nbformat": 4,
 "nbformat_minor": 2
}
