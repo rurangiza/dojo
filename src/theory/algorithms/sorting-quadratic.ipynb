{
 "cells": [
  {
   "cell_type": "markdown",
   "metadata": {},
   "source": [
    "# Sorting in Quadratic Time - O(nˆ2)"
   ]
  },
  {
   "cell_type": "markdown",
   "metadata": {},
   "source": [
    "### Insertion Sort"
   ]
  },
  {
   "cell_type": "code",
   "execution_count": 1,
   "metadata": {},
   "outputs": [
    {
     "name": "stdout",
     "output_type": "stream",
     "text": [
      "[1, 2, 4, 8, 13, 23]\n"
     ]
    }
   ],
   "source": [
    "\n",
    "from typing import List\n",
    "\n",
    "def insertionSort(nums: List[int]) -> List[int]:\n",
    "    for i in range(1, len(nums)):\n",
    "        j = i\n",
    "        while j > 0 and nums[j] < nums[j-1]:\n",
    "            tmp = nums[j-1]\n",
    "            nums[j-1] = nums[j]\n",
    "            nums[j] = tmp\n",
    "            j -= 1\n",
    "\n",
    "nums = [23, 4, 8, 1, 13, 2]\n",
    "insertionSort(nums)\n",
    "print(nums)\n",
    "        "
   ]
  },
  {
   "cell_type": "markdown",
   "metadata": {},
   "source": [
    "## Bubble Sort"
   ]
  },
  {
   "cell_type": "code",
   "execution_count": 3,
   "metadata": {},
   "outputs": [
    {
     "name": "stdout",
     "output_type": "stream",
     "text": [
      "[1, 2, 4, 8, 13, 23]\n"
     ]
    }
   ],
   "source": [
    "from typing import List\n",
    "\n",
    "def bubbleSort(nums: List[int]) -> List[int]:\n",
    "    while True:\n",
    "        is_sorted = True\n",
    "        for i in range(len(nums)-1):\n",
    "            if nums[i] > nums[i+1]:\n",
    "                is_sorted = False\n",
    "                tmp = nums[i+1]\n",
    "                nums[i+1] = nums[i]\n",
    "                nums[i] = tmp\n",
    "        if is_sorted:\n",
    "            break\n",
    "\n",
    "nums = [23, 4, 8, 1, 13, 2]\n",
    "bubbleSort(nums)\n",
    "print(nums)"
   ]
  },
  {
   "cell_type": "markdown",
   "metadata": {},
   "source": [
    "## Selection Sort"
   ]
  },
  {
   "cell_type": "code",
   "execution_count": 5,
   "metadata": {},
   "outputs": [
    {
     "name": "stdout",
     "output_type": "stream",
     "text": [
      "[1, 2, 4, 8, 13, 23]\n"
     ]
    }
   ],
   "source": [
    "def selectionSort(nums: List[int]) -> List[int]:\n",
    "    for i in range(len(nums)-1):\n",
    "        current_minimum = nums[i]\n",
    "        index = i\n",
    "        for j in range(i+1, len(nums)):\n",
    "            if nums[j] < current_minimum:\n",
    "                current_minimum = nums[j]\n",
    "                index = j\n",
    "        if current_minimum != nums[i]:\n",
    "            tmp = nums[i]\n",
    "            nums[i] = current_minimum\n",
    "            nums[index] = tmp\n",
    "\n",
    "nums = [23, 4, 8, 1, 13, 2]\n",
    "selectionSort(nums)\n",
    "print(nums)"
   ]
  }
 ],
 "metadata": {
  "kernelspec": {
   "display_name": "Python 3",
   "language": "python",
   "name": "python3"
  },
  "language_info": {
   "codemirror_mode": {
    "name": "ipython",
    "version": 3
   },
   "file_extension": ".py",
   "mimetype": "text/x-python",
   "name": "python",
   "nbconvert_exporter": "python",
   "pygments_lexer": "ipython3",
   "version": "3.11.4"
  }
 },
 "nbformat": 4,
 "nbformat_minor": 2
}
