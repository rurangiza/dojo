{
 "cells": [
  {
   "cell_type": "markdown",
   "metadata": {},
   "source": [
    "# Counting Sort\n",
    "- You know the range and it is acceptable, not too big"
   ]
  },
  {
   "cell_type": "code",
   "execution_count": 6,
   "metadata": {},
   "outputs": [
    {
     "name": "stdout",
     "output_type": "stream",
     "text": [
      "[0, 1, 1, 2, 2, 4, 5, 7, 9]\n"
     ]
    }
   ],
   "source": [
    "from typing import List\n",
    "\n",
    "def countingSort(nums: List[int]) -> List[int]:\n",
    "    maximum, minimum = max(nums), min(nums)\n",
    "    size = maximum - minimum + 1\n",
    "\n",
    "    # auxiliart array to store counts of each element\n",
    "    count = [0] * size\n",
    "\n",
    "    # Auxilialy array to store the resultant sorted array\n",
    "    output = [0] * len(nums)\n",
    "\n",
    "    # Store count of each element\n",
    "    for num in nums:\n",
    "        count[num - minimum] += 1\n",
    "    \n",
    "    # Change count[i] so that count[i] now contains actual\n",
    "    # position of this character in output arra\n",
    "    for i in range(1, len(count)):\n",
    "        count[i] += count[i-1]\n",
    "    \n",
    "    # Build the output character array\n",
    "    # To make it stable we are operating in reverse order\n",
    "    for i in range(len(nums)-1, -1, -1):\n",
    "        curr = nums[i]\n",
    "        output[count[curr - minimum] - 1] = nums[i]\n",
    "        count[nums[i] - minimum] -= 1\n",
    "\n",
    "    return output\n",
    "\n",
    "arr = [2, 4, 1, 1, 7, 2, 9, 0, 5]\n",
    "res = countingSort(arr)\n",
    "print(res)"
   ]
  }
 ],
 "metadata": {
  "kernelspec": {
   "display_name": "Python 3",
   "language": "python",
   "name": "python3"
  },
  "language_info": {
   "codemirror_mode": {
    "name": "ipython",
    "version": 3
   },
   "file_extension": ".py",
   "mimetype": "text/x-python",
   "name": "python",
   "nbconvert_exporter": "python",
   "pygments_lexer": "ipython3",
   "version": "3.11.4"
  }
 },
 "nbformat": 4,
 "nbformat_minor": 2
}
