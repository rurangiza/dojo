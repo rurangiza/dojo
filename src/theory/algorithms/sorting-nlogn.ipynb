{
 "cells": [
  {
   "cell_type": "markdown",
   "metadata": {},
   "source": [
    "# Sorting in O(n log n)"
   ]
  },
  {
   "cell_type": "markdown",
   "metadata": {},
   "source": [
    "## Merge Sort\n",
    "\n",
    "**Input**\n",
    "list of numbers\n",
    "\n",
    "**Output**\n",
    "sorted list of numbers\n",
    "\n",
    "Keywords\n",
    "divide-and-conquer, recursion\n",
    "\n",
    "**Pseudocode**\n",
    "\n",
    "``python\n",
    "# divide\n",
    "    # find middle\n",
    "    # apply division on both parts\n",
    "# assemble\n",
    "``"
   ]
  },
  {
   "cell_type": "code",
   "execution_count": null,
   "metadata": {},
   "outputs": [],
   "source": [
    "from typing import List\n",
    "\n",
    "def mergeSort(nums: List[int]) -> List[int]:\n",
    "    if len(nums) == 1:\n",
    "        return\n",
    "    mid = len(nums) // 2\n",
    "    a = mergeSort(nums[:mid])\n",
    "    b = mergeSort(nums[mid:])\n",
    "    return merge(a, b)\n",
    "\n",
    "def merge(a: List[int], b: List[int]) -> List[int]:\n",
    "    c = []\n",
    "    "
   ]
  }
 ],
 "metadata": {
  "language_info": {
   "name": "python"
  }
 },
 "nbformat": 4,
 "nbformat_minor": 2
}
