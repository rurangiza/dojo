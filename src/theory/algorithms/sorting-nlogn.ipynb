{
 "cells": [
  {
   "cell_type": "markdown",
   "metadata": {},
   "source": [
    "# Sorting in O(n log n)"
   ]
  },
  {
   "cell_type": "markdown",
   "metadata": {},
   "source": [
    "## Merge Sort\n",
    "\n",
    "**Input**\n",
    "list of numbers\n",
    "\n",
    "**Output**\n",
    "sorted list of numbers\n",
    "\n",
    "Keywords\n",
    "divide-and-conquer, recursion\n",
    "\n",
    "**Pseudocode**\n",
    "\n",
    "``python\n",
    "# divide\n",
    "    # find middle\n",
    "    # apply division on both parts\n",
    "# assemble\n",
    "``"
   ]
  },
  {
   "cell_type": "code",
   "execution_count": null,
   "metadata": {},
   "outputs": [],
   "source": [
    "from typing import List\n",
    "\n",
    "def mergeSort(arr, start, end):\n",
    "\n",
    "    left = mergeSort(arr, )\n",
    "    right = mergeSort(arr, )\n",
    "\n",
    "    return merge(left, right)\n",
    "\n",
    "def merge(left, right):\n",
    "    ...\n",
    "\n",
    "arr = [4, 9, 10, 45, 32, 8, 1]\n",
    "mergeSort(arr, 0, len(arr))\n",
    "    "
   ]
  }
 ],
 "metadata": {
  "language_info": {
   "name": "python"
  }
 },
 "nbformat": 4,
 "nbformat_minor": 2
}
