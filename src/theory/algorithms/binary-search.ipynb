{
 "cells": [
  {
   "cell_type": "markdown",
   "metadata": {},
   "source": [
    "# Binary Search"
   ]
  },
  {
   "cell_type": "markdown",
   "metadata": {},
   "source": [
    "### Find a value\n",
    "What you return might differ, can be:\n",
    "- a boolean (True = I found the value)\n",
    "- the index at which the value is"
   ]
  },
  {
   "cell_type": "code",
   "execution_count": null,
   "metadata": {},
   "outputs": [],
   "source": [
    "def binarySearch(nums, target) -> bool:\n",
    "    left, right = 0, len(nums)-1 # \n",
    "    while left <= right: # <= to evaluate the last element\n",
    "        mid = (left + right) // 2 # integer division, no floats!\n",
    "        if nums[mid] == target:\n",
    "            return True # or mid (if index is asked)\n",
    "        elif target < nums[mid]:\n",
    "            right = mid - 1 # skip current middle and go one step left\n",
    "        else:\n",
    "            left = mid + 1 # skip current middle and go one step right\n",
    "    return False"
   ]
  },
  {
   "cell_type": "markdown",
   "metadata": {},
   "source": [
    "## Find value or index to insert"
   ]
  },
  {
   "cell_type": "code",
   "execution_count": null,
   "metadata": {},
   "outputs": [],
   "source": [
    "def binarySearch_2(nums, target) -> int:\n",
    "    left, right = 0, len(nums)-1\n",
    "    while left <= right:\n",
    "        mid = (left + right) // 2\n",
    "        if nums[mid] == target:\n",
    "            return mid\n",
    "        elif target < nums[mid]:\n",
    "            right = mid - 1\n",
    "        else:\n",
    "            left = mid + 1\n",
    "    return left # why left?"
   ]
  }
 ],
 "metadata": {
  "language_info": {
   "name": "python"
  }
 },
 "nbformat": 4,
 "nbformat_minor": 2
}
