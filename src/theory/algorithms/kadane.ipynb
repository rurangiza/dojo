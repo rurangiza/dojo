{
 "cells": [
  {
   "cell_type": "code",
   "execution_count": 5,
   "metadata": {},
   "outputs": [
    {
     "name": "stdout",
     "output_type": "stream",
     "text": [
      "10\n"
     ]
    }
   ],
   "source": [
    "\n",
    "def maxSubarraySumCircular(nums):\n",
    "    globMax = float('-inf')\n",
    "    curMax = 0\n",
    "    globMin = float('inf')\n",
    "    curMin = 0\n",
    "    total = 0\n",
    "\n",
    "    for n in nums:\n",
    "        curMax = max(curMax+n, curMax)\n",
    "        globMax = max(globMax, curMax)\n",
    "\n",
    "        curMin = min(curMin+n, n)\n",
    "        globMin = min(globMin, curMin)\n",
    "\n",
    "        total += n\n",
    "    \n",
    "    return max((total-globMin), globMax)\n",
    "\n",
    "nums = [5, -3, 5]\n",
    "res = maxSubarraySumCircular(nums)\n",
    "print(res)"
   ]
  }
 ],
 "metadata": {
  "kernelspec": {
   "display_name": "Python 3",
   "language": "python",
   "name": "python3"
  },
  "language_info": {
   "codemirror_mode": {
    "name": "ipython",
    "version": 3
   },
   "file_extension": ".py",
   "mimetype": "text/x-python",
   "name": "python",
   "nbconvert_exporter": "python",
   "pygments_lexer": "ipython3",
   "version": "3.11.4"
  }
 },
 "nbformat": 4,
 "nbformat_minor": 2
}
