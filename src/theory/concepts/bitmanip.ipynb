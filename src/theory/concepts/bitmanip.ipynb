{
 "cells": [
  {
   "cell_type": "markdown",
   "metadata": {},
   "source": [
    "# Useful Maths for Problem Solving"
   ]
  },
  {
   "cell_type": "markdown",
   "metadata": {},
   "source": [
    "### Bit Manipulation"
   ]
  },
  {
   "cell_type": "markdown",
   "metadata": {},
   "source": [
    "|Result|128|64|32|16|8|4|2|1|\n",
    "|-|-|-|-|-|-|-|-|-|\n",
    "|Exp|2^7|2^6|2^5|2^4|2^3|2^2|2^1|2^0|\n",
    "|Bin|1|1|1|1|1|1|1|1|\n",
    "\n",
    "**Common data volume units**\n",
    "|Name|Bytes|Bits|Nbr values|Range|Utility|\n",
    "|:-:|:-:|:-:|:-:|:-:|-|\n",
    "|||2|4|0-3||\n",
    "|||4|15|0-14||\n",
    "||1|8|256|0-255|ASCII character|\n",
    "||2|16|65,536|0-65,535||\n",
    "||4|32|4,294,967,296|...|integer, IPv4|\n",
    "||8|64|😵‍💫|...||\n",
    "||16|128|😵‍💫|...|IPv6|\n",
    "|||||||\n",
    "|Kb|1000|😵‍💫|😵‍💫|...|1000 words text file encoded in ASCII|\n",
    "|Mb|1 million|😵‍💫|😵‍💫|...|MP3 (2-10mb), PNG|\n",
    "|Gb|1 billion|😵‍💫|😵‍💫|...|movies (1-3gb), RAM (8-32gb), HDD(512gb->)|\n",
    "|Tb|1 trillion|😵‍💫|😵‍💫|...|Hard Drive|"
   ]
  },
  {
   "cell_type": "code",
   "execution_count": 36,
   "metadata": {},
   "outputs": [
    {
     "name": "stdout",
     "output_type": "stream",
     "text": [
      "Binary: 0b1010\n",
      "Type: <class 'str'>\n",
      "Binary: 1010\n"
     ]
    }
   ],
   "source": [
    "# Decimal to binary in Python\n",
    "nbr = 10\n",
    "    \n",
    "binary = bin(nbr)\n",
    "print(\"Binary:\", binary)\n",
    "print(\"Type:\", type(binary))\n",
    "print(\"Binary:\", binary[2:]) # without prefix '0b'"
   ]
  },
  {
   "cell_type": "markdown",
   "metadata": {},
   "source": [
    "How it's done manually\n",
    "\n",
    "|Divisor|Number|Remainder|\n",
    "|-|-|-|\n",
    "|2|25||\n",
    "|2|12|1|\n",
    "|2|6|0|\n",
    "|2|3|0|\n",
    "|2|1|1|\n",
    "|2|0|1|\n",
    "\n",
    "The remainder gives us the binary, the bottom value being the left most binary digit.\n",
    "\n",
    "```bash\n",
    "11001\n",
    "```"
   ]
  },
  {
   "cell_type": "markdown",
   "metadata": {},
   "source": [
    "Now the same logic but with code."
   ]
  },
  {
   "cell_type": "code",
   "execution_count": 42,
   "metadata": {},
   "outputs": [
    {
     "name": "stdout",
     "output_type": "stream",
     "text": [
      "11001\n"
     ]
    }
   ],
   "source": [
    "\"\"\"\n",
    "Turning decimal to binary\n",
    "\"\"\"\n",
    "def to_bin(num: int) -> str:\n",
    "    remainders = []\n",
    "    while num > 0:\n",
    "        # store remainder as a list\n",
    "        remainders.append(num % 2)\n",
    "        # divise by two, must be int\n",
    "        num //= 2\n",
    "    # reverse the list & convert to string\n",
    "    return \"\".join([str(b) for b in remainders[::-1]])\n",
    "\n",
    "nbr = 25\n",
    "binary = to_bin(nbr)\n",
    "print(binary)"
   ]
  },
  {
   "cell_type": "markdown",
   "metadata": {},
   "source": [
    "## Binary number to a decimal\n",
    "\n",
    "There are two ways to represent a decimal number\n",
    "Let's take `256` for exemple. It can also be represented like this:\n",
    "\n",
    "256 = (2 * 10^3) + (5 * 10^2) + (6 * 10^0) = **200 + 50 + 6**\n",
    "\n",
    "|Digit||2|5|6|\n",
    "|-|:-:|-|-|-|\n",
    "|Position|N|2|1|0|\n",
    "|Potitionnal weight (PW)|base^N|10^2|10^1|10^0|\n",
    "||Digit * PW|200|50|6|\n",
    "\n",
    "Just like in binary, we can represent the number `11010` as:\n",
    "\n",
    "|Digit|1|1|0|1|0|\n",
    "|-|-|-|-|-|-|\n",
    "|Position|4|3|2|1|0|\n",
    "|Positional Weight|2^4|2^3|2^2|2^1|2^0|\n",
    "|Digit * Positional weight|16|8|0|2|0|\n",
    "\n",
    "= 30"
   ]
  },
  {
   "cell_type": "markdown",
   "metadata": {},
   "source": []
  },
  {
   "cell_type": "code",
   "execution_count": 13,
   "metadata": {},
   "outputs": [
    {
     "name": "stdout",
     "output_type": "stream",
     "text": [
      "2\n"
     ]
    }
   ],
   "source": [
    "from collections import defaultdict\n",
    "\n",
    "def lonelyinteger(nums):\n",
    "    result = 0\n",
    "    for num in nums:\n",
    "        result ^= num\n",
    "    return result\n",
    "\n",
    "res = lonelyinteger([1, 1, 2])\n",
    "print(res)\n"
   ]
  }
 ],
 "metadata": {
  "kernelspec": {
   "display_name": "Python 3",
   "language": "python",
   "name": "python3"
  },
  "language_info": {
   "codemirror_mode": {
    "name": "ipython",
    "version": 3
   },
   "file_extension": ".py",
   "mimetype": "text/x-python",
   "name": "python",
   "nbconvert_exporter": "python",
   "pygments_lexer": "ipython3",
   "version": "3.11.4"
  }
 },
 "nbformat": 4,
 "nbformat_minor": 2
}
