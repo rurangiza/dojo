{
 "cells": [
  {
   "cell_type": "markdown",
   "metadata": {},
   "source": [
    "# Hashmap\n",
    "A **data structure** that works with **key-value pairs** and allows to insert, remove and search in constant time O(1). It is implemented using an **array** and a **hash function** that converts every key into an index in that array.\n",
    "\n",
    "Sometimes different keys when hashed convert to the same index, this is called a **collision** and there are different ways of handling them. Since the speed of the hash map is due to the fact that per index there is only one element, the way collision are handled is critical.\n",
    "\n",
    "|Operations|HashMap|\n",
    "|-|-|\n",
    "|Insert|O(1)|\n",
    "|Remove|O(1)|\n",
    "|Search|O(1)|\n",
    "\n",
    "\n",
    "> [!Warning]\n",
    "> no duplicate keys are allowed in sets or hashmaps, they replace each other"
   ]
  },
  {
   "cell_type": "markdown",
   "metadata": {},
   "source": [
    "### Basic Hash Function\n",
    "The role of this function is to convert any key into a valid index for the array that serves as the container for the hashmap."
   ]
  },
  {
   "cell_type": "code",
   "execution_count": null,
   "metadata": {},
   "outputs": [],
   "source": [
    "\"\"\"\n",
    "given a key the following functions will conert it into a valid index\n",
    "depending on the type of the key, the hash will work differently\n",
    "for an index to be valid it must be:\n",
    "1. an integer\n",
    "2. between 0 and (length of the array - 1)\n",
    "\"\"\"\n",
    "def hash_an_int(key: int, size: int) -> int:\n",
    "    return key % size\n",
    "\n",
    "def hash_a_string(key: str, size: int) -> int:\n",
    "    number = 0\n",
    "    for character in key:\n",
    "        ascii = ord(character)\n",
    "        number += ascii\n",
    "    # print(number)\n",
    "    return number % size\n",
    "\n",
    "################################################################################\n",
    "\n",
    "arr_size = 14\n",
    "array = [0] * arr_size # initialize array of size 14 filled with 0s\n",
    "keys = [2, 9, 15, 94, 783]\n",
    "for key in keys[0]:\n",
    "    print(hash_an_int(key, arr_size))"
   ]
  },
  {
   "cell_type": "markdown",
   "metadata": {},
   "source": [
    "What if the key is a string?"
   ]
  },
  {
   "cell_type": "code",
   "execution_count": null,
   "metadata": {},
   "outputs": [],
   "source": [
    "def hash_a_string(key: str, size: int) -> int:\n",
    "    number = 0\n",
    "    for character in key:\n",
    "        ascii = ord(character)\n",
    "        number += ascii\n",
    "    # print(number)\n",
    "    return number % size\n",
    "\n",
    "arr_size = 14\n",
    "array = [0] * arr_size\n",
    "keys = [\"eric\", \"david\", \"brandon\", \"dan\"]\n",
    "for key in keys[1]:\n",
    "    print(hash_a_string(key, arr_size))"
   ]
  },
  {
   "cell_type": "markdown",
   "metadata": {},
   "source": [
    "### Using hash maps in Python\n",
    "Hashmap are called dictionnaries in Python"
   ]
  },
  {
   "cell_type": "code",
   "execution_count": 23,
   "metadata": {},
   "outputs": [
    {
     "name": "stdout",
     "output_type": "stream",
     "text": [
      "key:alice, value:35\n",
      "key:bob, value:34\n",
      "35\n",
      "34\n",
      "alice 35\n",
      "bob 34\n"
     ]
    }
   ],
   "source": [
    "from collections import defaultdict\n",
    "\n",
    "# initializing a hasmap\n",
    "myMap1 = {\"a\": 1, \"b\": 2} # curly braces\n",
    "myMap2 = dict(c=3, d=4) # dict constructor\n",
    "myMap3 = { i: 2*1 for i in range(3) } # dict comprehension\n",
    "myMap4 = defaultdict(int) # default dict => allows direct increment or concatenation\n",
    "\n",
    "# adding elements\n",
    "myMap1[\"c\"] = 34\n",
    "\n",
    "# remove elements\n",
    "myMap1.pop(\"a\")\n",
    "myMap1.pop(\"alice\", \"Undefined\") # prevents key-errors\n",
    "\n",
    "# iterate over a dictionnary\n",
    "myMap5 = { \"alice\": 35, \"bob\": 34 }\n",
    "\n",
    "for key in myMap5:\n",
    "    print(f'key:{key}, value:{myMap5[key]}')\n",
    "\n",
    "for val in myMap5.values():\n",
    "    print(val)\n",
    "\n",
    "for key, val in myMap5.items():\n",
    "    print(key, val)"
   ]
  }
 ],
 "metadata": {
  "kernelspec": {
   "display_name": "Python 3",
   "language": "python",
   "name": "python3"
  },
  "language_info": {
   "codemirror_mode": {
    "name": "ipython",
    "version": 3
   },
   "file_extension": ".py",
   "mimetype": "text/x-python",
   "name": "python",
   "nbconvert_exporter": "python",
   "pygments_lexer": "ipython3",
   "version": "3.11.4"
  }
 },
 "nbformat": 4,
 "nbformat_minor": 2
}
