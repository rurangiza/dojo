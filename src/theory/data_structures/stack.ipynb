{
 "cells": [
  {
   "cell_type": "code",
   "execution_count": 22,
   "metadata": {},
   "outputs": [
    {
     "name": "stdout",
     "output_type": "stream",
     "text": [
      "1,2,3\n"
     ]
    }
   ],
   "source": [
    "from typing import List\n",
    "\n",
    "class Stack:\n",
    "    def __init__(self, values: List[int] = []) -> None:\n",
    "        self.container = values\n",
    "    \n",
    "    def push(self, value: int) -> None:\n",
    "        self.container.append(value)\n",
    "    \n",
    "    def pop(self) -> int:\n",
    "        if len(self.container) > 0:\n",
    "            return self.container.pop()\n",
    "    \n",
    "    def peek(self) -> int:\n",
    "        if len(self.container) > 0:\n",
    "            return self.container[-1]\n",
    "    \n",
    "    def __str__(self):\n",
    "        return \",\".join([str(val) for val in self.container])\n",
    "\n",
    "    def __repr__(self) -> str:\n",
    "        return self.container.__repr__\n",
    "\n",
    "################################################################################\n",
    "\n",
    "s = Stack()\n",
    "s.push(1)\n",
    "s.push(2)\n",
    "s.push(3)\n",
    "print(s)"
   ]
  },
  {
   "cell_type": "code",
   "execution_count": 12,
   "metadata": {},
   "outputs": [
    {
     "name": "stdout",
     "output_type": "stream",
     "text": [
      "1-2-3-4\n"
     ]
    }
   ],
   "source": [
    "arr = [1, 2, 3, 4]\n",
    "print(\n",
    "        \"\".join(\n",
    "            [f'{num}-' if i != 3 else str(num) for i, num in enumerate(arr)]\n",
    "        )\n",
    "    )"
   ]
  }
 ],
 "metadata": {
  "kernelspec": {
   "display_name": "Python 3",
   "language": "python",
   "name": "python3"
  },
  "language_info": {
   "codemirror_mode": {
    "name": "ipython",
    "version": 3
   },
   "file_extension": ".py",
   "mimetype": "text/x-python",
   "name": "python",
   "nbconvert_exporter": "python",
   "pygments_lexer": "ipython3",
   "version": "3.11.4"
  }
 },
 "nbformat": 4,
 "nbformat_minor": 2
}
