{
 "cells": [
  {
   "cell_type": "code",
   "execution_count": 9,
   "metadata": {},
   "outputs": [
    {
     "name": "stdout",
     "output_type": "stream",
     "text": [
      "[1, 1, 1, 1, 1]\n",
      "[0, 0, 0, 0, 1]\n",
      "[0, 0, 0, 0, 1]\n",
      "[0, 0, 0, 0, 1]\n",
      "[1, 1, 1, 1, 1]\n"
     ]
    }
   ],
   "source": [
    "def spiralize(size):\n",
    "    sp = [[0]*size for _ in range(size)]\n",
    "    for r in range(size):\n",
    "        for c in range(size):\n",
    "            # start here\n",
    "            if r == 0 or r == size-1 or c == size-1:\n",
    "                sp[r][c] = 1\n",
    "    return sp\n",
    "\n",
    "s = spiralize(5)\n",
    "for row in s:\n",
    "    print(row)"
   ]
  },
  {
   "cell_type": "markdown",
   "metadata": {},
   "source": [
    "\n",
    "c = column\n",
    "r = row\n",
    "\n",
    "         c\n",
    "         0\n",
    "\n",
    "0000000000 r0 even\n",
    ".........0 r1\n",
    "00000000.0 r2 even\n",
    "0......0.0 r3\n",
    "0.0000.0.0 r4 even\n",
    "0.0..0.0.0 r5\n",
    "0.0....0.0 r6 even\n",
    "0.000000.0 r7\n",
    "0........0 r8 even\n",
    "0000000000 r = len-1"
   ]
  }
 ],
 "metadata": {
  "kernelspec": {
   "display_name": "Python 3",
   "language": "python",
   "name": "python3"
  },
  "language_info": {
   "codemirror_mode": {
    "name": "ipython",
    "version": 3
   },
   "file_extension": ".py",
   "mimetype": "text/x-python",
   "name": "python",
   "nbconvert_exporter": "python",
   "pygments_lexer": "ipython3",
   "version": "3.11.4"
  }
 },
 "nbformat": 4,
 "nbformat_minor": 2
}
