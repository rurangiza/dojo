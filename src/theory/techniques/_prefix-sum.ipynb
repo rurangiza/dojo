{
 "cells": [
  {
   "cell_type": "markdown",
   "metadata": {},
   "source": [
    "## Prefix Sum\n",
    "A prefix sum array, also known as a cumulative sum array, is a derived array that stores the cumulative sum of elements in a given array. Each element in the prefix sum array represents the sum of all elements up to that index in the original array. It acts as a precursor to answering queries related to cumulative sums, allowing for fast and efficient computations."
   ]
  },
  {
   "cell_type": "code",
   "execution_count": null,
   "metadata": {},
   "outputs": [],
   "source": [
    "class PrefixSum:\n",
    "    def __init__(self, nums):\n",
    "        self.prefix = []\n",
    "        total = 0\n",
    "        for n in nums:\n",
    "            total += n\n",
    "            self.prefix.append(total)\n",
    "\n",
    "    def range(self, left, right):\n",
    "        \"\"\"\n",
    "        nums   [2, 1, -5, 3, 9]\n",
    "        prefix [2, 3, -2, 1, 10]\n",
    "        >> range(0, 2) = -2\n",
    "        \"\"\"\n",
    "        preRight = self.prefix[right] if right < len(self.prefix) else self.prefix[len(self.prefix)-1]\n",
    "        preLeft = self.prefix[left-1] if left > 0 else 0\n",
    "        return preRight - preLeft\n",
    "\n",
    "nums = [2, 1, -5, 3, 9]\n",
    "ps = PrefixSum(nums)\n",
    "res = ps.range(4, 11)\n",
    "print(res) # -4"
   ]
  }
 ],
 "metadata": {
  "kernelspec": {
   "display_name": "Python 3",
   "language": "python",
   "name": "python3"
  },
  "language_info": {
   "codemirror_mode": {
    "name": "ipython",
    "version": 3
   },
   "file_extension": ".py",
   "mimetype": "text/x-python",
   "name": "python",
   "nbconvert_exporter": "python",
   "pygments_lexer": "ipython3",
   "version": "3.11.4"
  }
 },
 "nbformat": 4,
 "nbformat_minor": 2
}
