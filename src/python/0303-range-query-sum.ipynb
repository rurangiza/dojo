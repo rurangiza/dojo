{
 "cells": [
  {
   "cell_type": "code",
   "execution_count": 6,
   "metadata": {},
   "outputs": [
    {
     "name": "stdout",
     "output_type": "stream",
     "text": [
      "1 -1 -3 "
     ]
    }
   ],
   "source": [
    "from typing import List\n",
    "\n",
    "class NumArray(object):\n",
    "\n",
    "    def __init__(self, nums: List[int]) -> None:\n",
    "        self.nums = nums\n",
    "        self.prefix = self.calc_prefix()\n",
    "    \n",
    "    def calc_prefix(self) -> List[int]:\n",
    "        res, tot = [], 0\n",
    "        for num in self.nums:\n",
    "            tot += num\n",
    "            res.append(tot)\n",
    "        return res\n",
    "\n",
    "    def sumRange(self, left: int, right: int) -> int:\n",
    "        sub = self.prefix[left-1] if left > 0 else 0\n",
    "        return self.prefix[right] - sub\n",
    "\n",
    "################################################################################\n",
    "\n",
    "nums = [-2, 0, 3, -5, 2, -1]\n",
    "ranges = [[0,2],[2,5],[0,5]]\n",
    "\n",
    "obj = NumArray(nums)\n",
    "for left, right in ranges:\n",
    "    res = obj.sumRange(left, right)\n",
    "    print(res, end=\" \")"
   ]
  }
 ],
 "metadata": {
  "kernelspec": {
   "display_name": "Python 3",
   "language": "python",
   "name": "python3"
  },
  "language_info": {
   "codemirror_mode": {
    "name": "ipython",
    "version": 3
   },
   "file_extension": ".py",
   "mimetype": "text/x-python",
   "name": "python",
   "nbconvert_exporter": "python",
   "pygments_lexer": "ipython3",
   "version": "3.11.4"
  }
 },
 "nbformat": 4,
 "nbformat_minor": 2
}
