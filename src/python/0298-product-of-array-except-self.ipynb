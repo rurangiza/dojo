{
 "cells": [
  {
   "cell_type": "markdown",
   "metadata": {},
   "source": [
    "## 238. Product of Array Except Self\n",
    "\n",
    "Given an integer array nums, return an array answer such that answer[i] is equal to the product of all the elements of nums except nums[i].\n",
    "\n",
    "The product of any prefix or suffix of nums is guaranteed to fit in a 32-bit integer.\n",
    "\n",
    "You must write an algorithm that runs in O(n) time and without using the division operation.\n",
    "\n",
    "**Example 1:**\n",
    "- Input: nums = [1,2,3,4]\n",
    "- Output: [24,12,8,6]\n",
    "\n",
    "**Example 2:**\n",
    "- Input: nums = [-1,1,0,-3,3]\n",
    "- Output: [0,0,9,0,0]\n",
    "\n",
    "**Constraints:**\n",
    "- 2 <= nums.length <= 10^5\n",
    "- -30 <= nums[i] <= 30\n",
    "- The product of any prefix or suffix of nums is guaranteed to fit in a 32-bit integer."
   ]
  },
  {
   "cell_type": "code",
   "execution_count": 7,
   "metadata": {},
   "outputs": [],
   "source": [
    "from typing import List"
   ]
  },
  {
   "cell_type": "code",
   "execution_count": 8,
   "metadata": {},
   "outputs": [],
   "source": [
    "\"\"\"\n",
    "Brute force approach\n",
    "time: O(n^2)\n",
    "space: O(1)\n",
    "\"\"\"\n",
    "class Solution_1(object):\n",
    "    @staticmethod\n",
    "    def productExceptSelf(nums: List[int]) -> List[int]:\n",
    "        res = []\n",
    "        for i in range(len(nums)):\n",
    "            tot = 1\n",
    "            for j in range(len(nums)):\n",
    "                if j != i:\n",
    "                    tot *= nums[j]\n",
    "            res.append(tot)\n",
    "        return res\n",
    "\n",
    "\"\"\"\n",
    "After learning about the prefix sum technique\n",
    "time: O(n)\n",
    "space: O(n)\n",
    "\"\"\"\n",
    "class Solution_2(object):\n",
    "    @staticmethod\n",
    "    def productExceptSelf(nums: List[int]) -> List[int]:\n",
    "\n",
    "        def calc_prepostfix(arr):\n",
    "            pre_total, post_total = 1, 1\n",
    "            prefix, postfix = [], [0] * len(arr)\n",
    "            for i in range(len(arr)):\n",
    "                pre_total *= arr[i]\n",
    "                post_total *= arr[len(arr)-1-i]\n",
    "                prefix.append(pre_total)\n",
    "                postfix[len(arr)-1-i] = post_total\n",
    "            return [prefix, postfix]\n",
    "        \n",
    "        pre, post = calc_prepostfix(nums)\n",
    "\n",
    "        new_arr = []\n",
    "        for i in range(len(nums)):\n",
    "            L = pre[i-1] if i > 0 else 1\n",
    "            R = post[i+1] if i < len(post)-1 else 1\n",
    "            new_arr.append(L * R)\n",
    "        return new_arr\n"
   ]
  },
  {
   "cell_type": "markdown",
   "metadata": {},
   "source": [
    "## Testing"
   ]
  },
  {
   "cell_type": "code",
   "execution_count": 16,
   "metadata": {},
   "outputs": [
    {
     "name": "stdout",
     "output_type": "stream",
     "text": [
      "[24, 12, 8, 6]\n",
      "[24, 12, 8, 6]\n"
     ]
    }
   ],
   "source": [
    "nums = [1,2,3,4]\n",
    "\n",
    "s1 = Solution_1.productExceptSelf(nums)\n",
    "s2 = Solution_2.productExceptSelf(nums)\n",
    "\n",
    "print(s1)\n",
    "print(s2)"
   ]
  }
 ],
 "metadata": {
  "kernelspec": {
   "display_name": "Python 3",
   "language": "python",
   "name": "python3"
  },
  "language_info": {
   "codemirror_mode": {
    "name": "ipython",
    "version": 3
   },
   "file_extension": ".py",
   "mimetype": "text/x-python",
   "name": "python",
   "nbconvert_exporter": "python",
   "pygments_lexer": "ipython3",
   "version": "3.11.4"
  }
 },
 "nbformat": 4,
 "nbformat_minor": 2
}
