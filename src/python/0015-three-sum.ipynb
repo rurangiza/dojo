{
 "cells": [
  {
   "cell_type": "markdown",
   "metadata": {},
   "source": [
    "# 3 Sum"
   ]
  },
  {
   "cell_type": "code",
   "execution_count": 18,
   "metadata": {},
   "outputs": [
    {
     "name": "stdout",
     "output_type": "stream",
     "text": [
      "[[-1, 2, -1], [0, 1, -1]]\n",
      "[]\n",
      "[[0, 0, 0]]\n"
     ]
    }
   ],
   "source": [
    "from collections import defaultdict\n",
    "from typing import List\n",
    "class Solution(object):\n",
    "    \"\"\"\n",
    "    time: O(nˆ3)\n",
    "    space: O(2n)\n",
    "    result: Memory Limit Exceeded\n",
    "    \"\"\"\n",
    "    def threeSum_v1(self, nums: List[int]) -> List[List[int]]:\n",
    "        pairs, res = [], []\n",
    "        # stoquer toutes les paires possibles\n",
    "        for i in range(len(nums)-1):\n",
    "            for j in range(i+1, len(nums)):\n",
    "                pairs.append([(nums[i], i), (nums[j], j)])\n",
    "                print(pairs)\n",
    "        # verifier si en ajoutant un nombre dans ce paires on arrive a zéro\n",
    "        for idx, num in enumerate(nums):\n",
    "            for pair in pairs:\n",
    "                if num + (pair[0][0] + pair[1][0]) == 0:\n",
    "                    curr = sorted([num, pair[0][0], pair[1][0]])\n",
    "                    if curr not in res and idx != pair[0][1] and idx != pair[1][1]:\n",
    "                        res.append(curr)\n",
    "        return res\n",
    "    \n",
    "    \"\"\"\n",
    "    How can I reduce this problem to become two sum?\n",
    "    \"\"\"\n",
    "    def threeSum_v2(self, nums: List[int]) -> List[List[int]]:\n",
    "        hmap = defaultdict(list)\n",
    "        for i in range(len(nums)-1):\n",
    "            for j in range(i+1, len(nums)):\n",
    "                key = nums[i]+nums[j]\n",
    "                value = sorted([nums[i], nums[j]])\n",
    "                if value not in hmap[key]:\n",
    "                    hmap[key].append(value)\n",
    "        for n in nums:\n",
    "            if -n in hmap:\n",
    "                arr = hmap[-n]\n",
    "                for item in arr:\n",
    "                    item.append(n)\n",
    "                return hmap[-n]\n",
    "        return []\n",
    "    \n",
    "nums = [\n",
    "    [-1,0,1,2,-1,-4],\n",
    "    [0,1,1],\n",
    "    [0,0,0],\n",
    "]\n",
    "\n",
    "obj = Solution()\n",
    "for n in nums:\n",
    "    print(obj.threeSum_v2(n))\n",
    "# print(v1)"
   ]
  }
 ],
 "metadata": {
  "kernelspec": {
   "display_name": "Python 3",
   "language": "python",
   "name": "python3"
  },
  "language_info": {
   "codemirror_mode": {
    "name": "ipython",
    "version": 3
   },
   "file_extension": ".py",
   "mimetype": "text/x-python",
   "name": "python",
   "nbconvert_exporter": "python",
   "pygments_lexer": "ipython3",
   "version": "3.11.4"
  }
 },
 "nbformat": 4,
 "nbformat_minor": 2
}
