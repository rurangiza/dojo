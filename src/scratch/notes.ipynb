{
 "cells": [
  {
   "cell_type": "markdown",
   "metadata": {},
   "source": [
    "# The World of Sockets\n",
    "\n",
    "### IPC (Inter-Process-Communication)\n",
    "Processes provided by the O.S to manage shared data.\n",
    "\n",
    "Exemples:\n",
    "- pipe: canal de communication entre deux processus sur la meme machine\n",
    "- sockets: "
   ]
  },
  {
   "cell_type": "code",
   "execution_count": null,
   "metadata": {},
   "outputs": [],
   "source": []
  }
 ],
 "metadata": {
  "language_info": {
   "name": "python"
  }
 },
 "nbformat": 4,
 "nbformat_minor": 2
}
