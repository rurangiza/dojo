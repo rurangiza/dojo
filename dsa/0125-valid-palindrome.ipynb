{
 "cells": [
  {
   "cell_type": "markdown",
   "metadata": {},
   "source": [
    "# 125. Valid Palindrome"
   ]
  },
  {
   "cell_type": "code",
   "execution_count": null,
   "metadata": {},
   "outputs": [],
   "source": [
    "import doctest\n",
    "doctest.testmod(verbose=True)\n",
    "\n",
    "class Solution:\n",
    "    @staticmethod\n",
    "    def isPalindrome(s: str) -> bool:\n",
    "        cleaned_str = \"\"\n",
    "        for c in s:\n",
    "            if c.isalnum():\n",
    "                cleaned_str += c.lower()\n",
    "        L, R = 0, len(cleaned_str)-1\n",
    "        while L < R:\n",
    "            if cleaned_str[L] != cleaned_str[R]:\n",
    "                return False\n",
    "            L += 1\n",
    "            R -= 1\n",
    "        return True\n",
    "\n",
    "######################################################\n",
    "\n",
    "tests = {\n",
    "    \"A man, a plan, a canal: Panama\": True,\n",
    "    \"race a car\": False,\n",
    "    \" \": True,\n",
    "}\n",
    "passed, failed = 0, 0\n",
    "for str, expected in tests.items():\n",
    "    if Solution.isPalindrome(str) == expected:\n",
    "        passed += 1\n",
    "    else:\n",
    "        failed += 1\n",
    "print(f'passed:{passed} - failed:{failed}')\n"
   ]
  }
 ],
 "metadata": {
  "kernelspec": {
   "display_name": "Python 3",
   "language": "python",
   "name": "python3"
  },
  "language_info": {
   "codemirror_mode": {
    "name": "ipython",
    "version": 3
   },
   "file_extension": ".py",
   "mimetype": "text/x-python",
   "name": "python",
   "nbconvert_exporter": "python",
   "pygments_lexer": "ipython3",
   "version": "3.11.4"
  }
 },
 "nbformat": 4,
 "nbformat_minor": 2
}
