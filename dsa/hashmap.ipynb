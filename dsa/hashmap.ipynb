{
 "cells": [
  {
   "cell_type": "markdown",
   "metadata": {},
   "source": [
    "# Hashmaps\n",
    "### Hashmap or Hash Table is a data structure which organizes data in key-value pairs using hash functions in order to support quick insertion, deletion and search O(1)\n",
    "\n",
    "### How it works\n",
    "### Colisions\n",
    "keeps track of the size of the array and number of elements.\n",
    "double size when it's half full.\n",
    "recompute the hash using the new size and move it to where it should be.\n",
    "= rehashing the array\n",
    "--> chaining\n",
    "--> open addressing (+1, ^2,...)"
   ]
  },
  {
   "cell_type": "code",
   "execution_count": 17,
   "metadata": {},
   "outputs": [
    {
     "name": "stdout",
     "output_type": "stream",
     "text": [
      "None\n",
      "None\n",
      "None\n",
      "None\n",
      "None\n",
      "None\n",
      "None\n",
      "None\n",
      "None\n",
      "None\n"
     ]
    }
   ],
   "source": [
    "\n",
    "arr = [None] * 10\n",
    "for a in arr:\n",
    "    print(a)\n"
   ]
  }
 ],
 "metadata": {
  "kernelspec": {
   "display_name": "Python 3",
   "language": "python",
   "name": "python3"
  },
  "language_info": {
   "codemirror_mode": {
    "name": "ipython",
    "version": 3
   },
   "file_extension": ".py",
   "mimetype": "text/x-python",
   "name": "python",
   "nbconvert_exporter": "python",
   "pygments_lexer": "ipython3",
   "version": "3.11.4"
  }
 },
 "nbformat": 4,
 "nbformat_minor": 2
}
