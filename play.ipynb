{
 "cells": [
  {
   "cell_type": "code",
   "execution_count": 3,
   "metadata": {},
   "outputs": [
    {
     "name": "stdout",
     "output_type": "stream",
     "text": [
      "2.8284271247461903 8.000000000000002\n"
     ]
    }
   ],
   "source": [
    "import math\n",
    "def prime_factors(n):\n",
    "    res = []\n",
    "\n",
    "    while n % 2 == 0:\n",
    "        n /= 2\n",
    "        res.append(2)\n",
    "    return res\n",
    "\n",
    "print(math.sqrt(8))\n"
   ]
  }
 ],
 "metadata": {
  "kernelspec": {
   "display_name": "Python 3",
   "language": "python",
   "name": "python3"
  },
  "language_info": {
   "codemirror_mode": {
    "name": "ipython",
    "version": 3
   },
   "file_extension": ".py",
   "mimetype": "text/x-python",
   "name": "python",
   "nbconvert_exporter": "python",
   "pygments_lexer": "ipython3",
   "version": "3.11.4"
  }
 },
 "nbformat": 4,
 "nbformat_minor": 2
}
